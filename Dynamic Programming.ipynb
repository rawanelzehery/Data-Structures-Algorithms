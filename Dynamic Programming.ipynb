{
 "cells": [
  {
   "cell_type": "code",
   "execution_count": null,
   "metadata": {},
   "outputs": [],
   "source": []
  },
  {
   "cell_type": "code",
   "execution_count": 12,
   "metadata": {},
   "outputs": [
    {
     "name": "stdout",
     "output_type": "stream",
     "text": [
      "39088169\n",
      "time taken is :  33.09175080000023 seconds\n"
     ]
    }
   ],
   "source": [
    "#Fibonnaci without Dynamic Progrzamming just recursion and fuction calls\n",
    "import time\n",
    "tic = time.perf_counter()\n",
    "def fibonnaci(n):\n",
    "    #base case\n",
    "    if n == 0 :\n",
    "        return 0\n",
    "    elif n == 1 :\n",
    "        return 1\n",
    "    else:\n",
    "        return fibonnaci(n-1) + fibonnaci(n-2)\n",
    "print(fibonnaci(38))\n",
    "toc = time.perf_counter()\n",
    "print(\"time taken is : \",toc-tic,\"seconds\")"
   ]
  },
  {
   "cell_type": "code",
   "execution_count": null,
   "metadata": {},
   "outputs": [],
   "source": []
  },
  {
   "cell_type": "code",
   "execution_count": 10,
   "metadata": {},
   "outputs": [
    {
     "name": "stdout",
     "output_type": "stream",
     "text": [
      "39088169\n",
      "time taken is :  0.0007682000000386324 seconds\n"
     ]
    }
   ],
   "source": [
    "#Fibonnaci with Dynamic Programming by Top-down with Memoization method\n",
    "\n",
    "tic = time.perf_counter()\n",
    "def memoization_fibonnaci(n,lst):\n",
    "    #base case\n",
    "    if n <= 1:\n",
    "        return n\n",
    "    #if it saved before on the lookup table\n",
    "    if lst[n] != -1:\n",
    "        return lst[n]\n",
    "    else:\n",
    "        #start from big number (n)\n",
    "        lst[n] =  memoization_fibonnaci(n-1,lst) + memoization_fibonnaci(n-2,lst)\n",
    "        return lst[n]\n",
    "#we could use null values instead of -1/None /zero  and it's all about your data \n",
    "lst = [-1 for i in range(39)]   \n",
    "print(memoization_fibonnaci(38,lst))\n",
    "toc = time.perf_counter()\n",
    "print(\"time taken is : \",toc-tic,\"seconds\")"
   ]
  },
  {
   "cell_type": "code",
   "execution_count": null,
   "metadata": {},
   "outputs": [],
   "source": []
  },
  {
   "cell_type": "code",
   "execution_count": 11,
   "metadata": {},
   "outputs": [
    {
     "name": "stdout",
     "output_type": "stream",
     "text": [
      "39088169\n",
      "time taken is :  0.0005558000002565677 seconds\n"
     ]
    }
   ],
   "source": [
    "#Fibonnaci with Dynamic Programming by Bottom-up with Tabulation method\n",
    "tic = time.perf_counter()\n",
    "def tabular_fibonnaci(n):\n",
    "    if n <= 1:\n",
    "        #base case\n",
    "        return n\n",
    "    #we could use null values instead of -1 /None /zero and it's all about your data \n",
    "    lst = [-1 for i in range(n+1)]\n",
    "    #start from base case\n",
    "    lst[0] = 0\n",
    "    lst[1] = 1\n",
    "    for i in range(2,n+1):\n",
    "         lst[i] = lst[i-1] + lst[i-2]\n",
    "    return lst[n]\n",
    "\n",
    "        \n",
    "print(tabular_fibonnaci(38))\n",
    "toc = time.perf_counter()\n",
    "print(\"time taken is : \",toc-tic,\"seconds\")"
   ]
  },
  {
   "cell_type": "code",
   "execution_count": null,
   "metadata": {},
   "outputs": [],
   "source": [
    "#conclousion the recursion with using any method of DP it's very time consuming !"
   ]
  },
  {
   "cell_type": "code",
   "execution_count": null,
   "metadata": {},
   "outputs": [],
   "source": []
  },
  {
   "cell_type": "code",
   "execution_count": null,
   "metadata": {},
   "outputs": [],
   "source": []
  }
 ],
 "metadata": {
  "kernelspec": {
   "display_name": "Python 3",
   "language": "python",
   "name": "python3"
  },
  "language_info": {
   "codemirror_mode": {
    "name": "ipython",
    "version": 3
   },
   "file_extension": ".py",
   "mimetype": "text/x-python",
   "name": "python",
   "nbconvert_exporter": "python",
   "pygments_lexer": "ipython3",
   "version": "3.8.3"
  }
 },
 "nbformat": 4,
 "nbformat_minor": 4
}
