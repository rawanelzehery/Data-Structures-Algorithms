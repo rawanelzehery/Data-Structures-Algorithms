{
 "cells": [
  {
   "cell_type": "code",
   "execution_count": null,
   "metadata": {},
   "outputs": [],
   "source": [
    "\"\"\"Given the weights and values of N items, \n",
    "in the form of {value, weight} put these items in a knapsack of \n",
    "capacity W to get the maximum total value in the knapsack.\n",
    "In Fractional Knapsack, we can break items for maximizing the total value of the knapsack\n",
    "\"\"\""
   ]
  },
  {
   "cell_type": "code",
   "execution_count": 3,
   "metadata": {},
   "outputs": [],
   "source": [
    "# Structure for an item which stores weight and profit and name\n",
    "\n",
    "class Item:\n",
    "    def __init__(self,name,value,weight):\n",
    "        self.name = name\n",
    "        self.value = value\n",
    "        self.weight = weight\n",
    "    \n",
    "        \n",
    "        "
   ]
  },
  {
   "cell_type": "code",
   "execution_count": 15,
   "metadata": {},
   "outputs": [],
   "source": [
    "def main_menu():\n",
    "    while True :\n",
    "        arr = []\n",
    "        print(\"Welcome To Knapsack:\\n\")\n",
    "        print(\"1-Enter Items Manually\\n\")\n",
    "        print(\"2-Use defualt items \\n\")\n",
    "        choice = int(input(\"Enter Your Choice : \"))\n",
    "        if choice == 1:\n",
    "            mx = int(input(\"Enter The Max Weight \"))\n",
    "            num = int(input(\" the number of items : \"))\n",
    "            for i in range(num):\n",
    "                \n",
    "                name = input(\"Enter The Name of Item : \")\n",
    "                value = int(input(\"Enter The Value of item\"))\n",
    "                weight = int(input(\"Enter The Weight of item\"))\n",
    "                item = Item(name, value, weight)\n",
    "                arr.append(item)\n",
    "\n",
    "        elif choice == 2:\n",
    "            print(\"So you will use the hard coded defualt items\\n\")\n",
    "            arr = [Item(\"i1\",60, 10), Item(\"i2\",100, 20), Item(\"i3\",120, 30)]\n",
    "            mx = int(input(\"Enter The Max Weight \"))\n",
    "        #select the cirtira \n",
    "           \n",
    "        print(\"1-minimum weight\\n\")\n",
    "        print(\"2-maximum weight\\n\")\n",
    "        print(\"3-maximum value\")\n",
    "        print(\"4-maximum value/weight\\n\")\n",
    "        choice2 = int(input(\"Enter Your Choice for selection cirtira  : \"))\n",
    "\n",
    "        if choice2 == 1:\n",
    "            mx_value =min_weight_frakartsuba(arr,len(arr),mx)\n",
    "            return mx_value\n",
    "        elif choice2 == 2:\n",
    "            mx_value =max_weight_frakartsuba(arr,len(arr),mx)\n",
    "            return mx_value\n",
    "       \n",
    "        elif choice2 == 3 :\n",
    "            mx_value =max_profit_frakartsuba(arr,len(arr),mx)\n",
    "            return mx_value\n",
    "            \n",
    "        elif choice2 == 4 :\n",
    "            \n",
    "            mx_value =profit_per_weight_frakartsuba(arr,len(arr),mx)\n",
    "            return mx_value\n",
    "            \n",
    "        else:\n",
    "            print(\"invalid choice !\")\n",
    "\n",
    "\n",
    "    \n",
    "    \n"
   ]
  },
  {
   "cell_type": "code",
   "execution_count": null,
   "metadata": {},
   "outputs": [],
   "source": [
    "\"\"\"\n",
    "different apparoches for applying the fractional knapsack by sorting items in different ways :-\n",
    "\n",
    "1-minmum weight \n",
    "2-maximum weight\n",
    "3-maximum value\n",
    "4-maximum value/weight\n",
    "\n",
    "\n",
    "\"\"\""
   ]
  },
  {
   "cell_type": "code",
   "execution_count": 9,
   "metadata": {},
   "outputs": [],
   "source": [
    "#sorting items by minmum weight in increasing order\n",
    "def min_weight_frakartsuba(arr,num,w):\n",
    "    arr.sort(key=lambda x: (x.weight))\n",
    "    limit_weight = w\n",
    "    remain_weight = w\n",
    "    max_profit = 0 \n",
    "    ratio = 0\n",
    "    while remain_weight != 0 :\n",
    "        for i in range(num):\n",
    "            if arr[i].weight <= remain_weight:\n",
    "                remain_weight -= arr[i].weight\n",
    "                max_profit += arr[i].value\n",
    "            elif remain_weight > 0  and remain_weight < arr[i].weight:\n",
    "                max_profit += arr[i].value * (remain_weight / arr[i].weight)\n",
    "                ratio = remain_weight / arr[i].weight\n",
    "                name_ratio = arr[i].name\n",
    "                remain_weight = 0 \n",
    "        if ratio > 0 :\n",
    "            print(\"The Ratio Taken from item \",name_ratio,\"is equal \",ratio)\n",
    "            return  max_profit \n",
    "        else:\n",
    "            return  max_profit\n",
    "            \n",
    "   "
   ]
  },
  {
   "cell_type": "code",
   "execution_count": 10,
   "metadata": {},
   "outputs": [
    {
     "name": "stdout",
     "output_type": "stream",
     "text": [
      "The Ratio Taken from item  i3 is equal  0.6666666666666666\n",
      "240.0\n"
     ]
    }
   ],
   "source": [
    "#sort items \n",
    "W = 50\n",
    "arr = [Item(\"i1\",60, 10), Item(\"i2\",100, 20), Item(\"i3\",120, 30)]\n",
    "n = len(arr)\n",
    "mx = min_weight_frakartsuba(arr,n,W)\n",
    "print(mx)"
   ]
  },
  {
   "cell_type": "code",
   "execution_count": 11,
   "metadata": {},
   "outputs": [],
   "source": [
    "#sorting items by maxmum weight in decreasing order\n",
    "\n",
    "def max_weight_frakartsuba(arr,num,w):\n",
    "    arr.sort(key=lambda x: (x.weight),reverse=True)\n",
    "    limit_weight = w\n",
    "    remain_weight = w\n",
    "    max_profit = 0 \n",
    "    ratio = 0\n",
    "    while remain_weight != 0 :\n",
    "        for i in range(num):\n",
    "            if arr[i].weight <= remain_weight:\n",
    "                remain_weight -= arr[i].weight\n",
    "                max_profit += arr[i].value\n",
    "            elif remain_weight > 0  and remain_weight < arr[i].weight:\n",
    "                max_profit += arr[i].value * (remain_weight / arr[i].weight)\n",
    "                ratio = remain_weight / arr[i].weight\n",
    "                name_ratio = arr[i].name\n",
    "                remain_weight = 0 \n",
    "        if ratio > 0 :\n",
    "            print(\"The Ratio Taken from item \",name_ratio,\"is equal \",ratio)\n",
    "            return  max_profit \n",
    "            #return  max_profit , ratio ,name_ratio\n",
    "        else:\n",
    "            return  max_profit\n",
    "                \n",
    "        "
   ]
  },
  {
   "cell_type": "code",
   "execution_count": 12,
   "metadata": {},
   "outputs": [
    {
     "name": "stdout",
     "output_type": "stream",
     "text": [
      "220\n"
     ]
    }
   ],
   "source": [
    "W = 50\n",
    "arr = [Item(\"i1\",60, 10), Item(\"i2\",100, 20), Item(\"i3\",120, 30)]\n",
    "n = len(arr)\n",
    "mx = max_weight_frakartsuba(arr,n,W)\n",
    "print(mx)"
   ]
  },
  {
   "cell_type": "code",
   "execution_count": 6,
   "metadata": {},
   "outputs": [],
   "source": [
    "#sorting items by maxmimum profit  in decreasing order\n",
    "\n",
    "def max_profit_frakartsuba(arr,num,w):\n",
    "    arr.sort(key=lambda x: (x.value),reverse=True)\n",
    "    limit_weight = w\n",
    "    remain_weight = w\n",
    "    max_profit = 0 \n",
    "    ratio = 0\n",
    "    while remain_weight != 0 :\n",
    "        for i in range(num):\n",
    "            if arr[i].weight <= remain_weight:\n",
    "                remain_weight -= arr[i].weight\n",
    "                max_profit += arr[i].value\n",
    "            elif remain_weight > 0  and remain_weight < arr[i].weight:\n",
    "                max_profit += arr[i].value * (remain_weight / arr[i].weight)\n",
    "                ratio = remain_weight / arr[i].weight\n",
    "                name_ratio = arr[i].name\n",
    "                remain_weight = 0 \n",
    "        if ratio > 0 :\n",
    "            print(\"The Ratio Taken from item \",name_ratio,\"is equal \",ratio)\n",
    "            return  max_profit \n",
    "        else:\n",
    "            return  max_profit\n",
    "                "
   ]
  },
  {
   "cell_type": "code",
   "execution_count": 7,
   "metadata": {},
   "outputs": [
    {
     "name": "stdout",
     "output_type": "stream",
     "text": [
      "The Ratio Taken from item  i2 is equal  0.5\n",
      "370.0\n"
     ]
    }
   ],
   "source": [
    "W = 50\n",
    "arr = [Item(\"i1\",200, 10), Item(\"i2\",100, 20), Item(\"i3\",120, 30)]\n",
    "n = len(arr)\n",
    "mx = max_profit_frakartsuba(arr,n,W)\n",
    "print(mx)"
   ]
  },
  {
   "cell_type": "code",
   "execution_count": 13,
   "metadata": {},
   "outputs": [],
   "source": [
    "#sorting items by cost = profit / weight for each item  in decreasing order\n",
    "def profit_per_weight_frakartsuba(arr,num,w):\n",
    "    arr.sort(key=lambda x: (x.value/x.weight),reverse=True)\n",
    "    limit_weight = w\n",
    "    remain_weight = w\n",
    "    max_profit = 0 \n",
    "    ratio = 0\n",
    "    while remain_weight != 0 :\n",
    "        for i in range(num):\n",
    "            if arr[i].weight <= remain_weight:\n",
    "                remain_weight -= arr[i].weight\n",
    "                max_profit += arr[i].value\n",
    "            elif remain_weight > 0  and remain_weight < arr[i].weight:\n",
    "                max_profit += arr[i].value * (remain_weight / arr[i].weight)\n",
    "                ratio = remain_weight / arr[i].weight\n",
    "                name_ratio = arr[i].name\n",
    "                remain_weight = 0 \n",
    "        if ratio > 0 :\n",
    "            print(\"The Ratio Taken from item \",name_ratio,\"is equal \",ratio)\n",
    "            return  max_profit \n",
    "            #return  max_profit , ratio ,name_ratio\n",
    "        else:\n",
    "            return  max_profit\n",
    "       "
   ]
  },
  {
   "cell_type": "code",
   "execution_count": 14,
   "metadata": {},
   "outputs": [
    {
     "name": "stdout",
     "output_type": "stream",
     "text": [
      "The Ratio Taken from item  i3 is equal  0.6666666666666666\n",
      "380.0\n"
     ]
    }
   ],
   "source": [
    "W = 50\n",
    "arr = [Item(\"i1\",200, 10), Item(\"i2\",100, 20), Item(\"i3\",120, 30)]\n",
    "n = len(arr)\n",
    "mx = profit_per_weight_frakartsuba(arr,n,W)\n",
    "print(mx)"
   ]
  },
  {
   "cell_type": "code",
   "execution_count": 16,
   "metadata": {},
   "outputs": [
    {
     "name": "stdout",
     "output_type": "stream",
     "text": [
      "Welcome To Knapsack:\n",
      "\n",
      "1-Enter Items Manually\n",
      "\n",
      "2-Use defualt items \n",
      "\n",
      "Enter Your Choice : 2\n",
      "So you will use the hard coded defualt items\n",
      "\n",
      "Enter The Max Weight 50\n",
      "1-minimum weight\n",
      "\n",
      "2-maximum weight\n",
      "\n",
      "3-maximum value\n",
      "4-maximum value/weight\n",
      "\n",
      "Enter Your Choice for selection cirtira  : 4\n",
      "The Ratio Taken from item  i3 is equal  0.6666666666666666\n",
      "max profit is equal to :  240.0\n"
     ]
    }
   ],
   "source": [
    "mx = main_menu()\n",
    "print(\"max profit is equal to : \",mx)"
   ]
  },
  {
   "cell_type": "code",
   "execution_count": null,
   "metadata": {},
   "outputs": [],
   "source": []
  }
 ],
 "metadata": {
  "kernelspec": {
   "display_name": "Python 3",
   "language": "python",
   "name": "python3"
  },
  "language_info": {
   "codemirror_mode": {
    "name": "ipython",
    "version": 3
   },
   "file_extension": ".py",
   "mimetype": "text/x-python",
   "name": "python",
   "nbconvert_exporter": "python",
   "pygments_lexer": "ipython3",
   "version": "3.8.3"
  }
 },
 "nbformat": 4,
 "nbformat_minor": 4
}
